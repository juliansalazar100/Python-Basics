{
 "cells": [
  {
   "cell_type": "code",
   "execution_count": 1,
   "id": "53525fe1-0cdf-48e3-923f-f1a7e9a1ef2b",
   "metadata": {},
   "outputs": [
    {
     "name": "stdout",
     "output_type": "stream",
     "text": [
      "Hello World\n"
     ]
    }
   ],
   "source": [
    "print(\"Hello World\")"
   ]
  },
  {
   "cell_type": "code",
   "execution_count": 2,
   "id": "5e35d010-4927-4672-9ae4-e6a74ca11ae5",
   "metadata": {},
   "outputs": [
    {
     "name": "stdout",
     "output_type": "stream",
     "text": [
      "The Sum: 30\n"
     ]
    }
   ],
   "source": [
    "a=10\n",
    "b=20\n",
    "print(\"The Sum:\", a+b)"
   ]
  },
  {
   "cell_type": "markdown",
   "id": "e83e458e-a37d-469c-968d-67b3647d934b",
   "metadata": {},
   "source": [
    "### Identifier\n",
    "\n",
    "A name in a Python program is called an identifier.\n",
    "It can be a class name or function name or module name or variable name.\n",
    "\n",
    "#### Rules to define identifiers in Python:\n",
    "\n",
    "1. **Allowed Characters:**\n",
    "   - Alphabet symbols (either lower case or upper case)\n",
    "   - Digits (0 to 9)\n",
    "   - Underscore symbol (_)\n",
    "   - If any other symbol is used, like `$`, a syntax error will occur.\n",
    "   \n",
    "   ```python\n",
    "   cash = 10   # Valid\n",
    "   Ca$h = 20   # Invalid9\r\n",
    "d\r\n",
    " X`)\r\n",
    "_)"
   ]
  },
  {
   "cell_type": "code",
   "execution_count": 3,
   "id": "90eba463-1537-4882-8c70-bb01caff5832",
   "metadata": {},
   "outputs": [
    {
     "ename": "SyntaxError",
     "evalue": "invalid decimal literal (4160958632.py, line 1)",
     "output_type": "error",
     "traceback": [
      "\u001b[1;36m  Cell \u001b[1;32mIn[3], line 1\u001b[1;36m\u001b[0m\n\u001b[1;33m    123total = 10  # Invalid\u001b[0m\n\u001b[1;37m      ^\u001b[0m\n\u001b[1;31mSyntaxError\u001b[0m\u001b[1;31m:\u001b[0m invalid decimal literal\n"
     ]
    }
   ],
   "source": [
    "123total = 10  # Invalid\n",
    "Total123 = 20  # Valid\n"
   ]
  },
  {
   "cell_type": "code",
   "execution_count": 4,
   "id": "f6e97fa0-c742-4ad2-b200-a535b73698d0",
   "metadata": {},
   "outputs": [
    {
     "name": "stdout",
     "output_type": "stream",
     "text": [
      "10\n",
      "999\n"
     ]
    }
   ],
   "source": [
    "total = 10\n",
    "TOTAL = 999\n",
    "print(total)  # Output: 10\n",
    "print(TOTAL)  # Output: 999\n"
   ]
  },
  {
   "cell_type": "code",
   "execution_count": 5,
   "id": "1327de5e-c95e-4722-a2c0-9acb189ed0b9",
   "metadata": {},
   "outputs": [],
   "source": [
    "a=10 #This is an identifier"
   ]
  },
  {
   "cell_type": "markdown",
   "id": "3d0a5a96-a6c1-47c9-bdef-1d85b4cb3978",
   "metadata": {},
   "source": [
    "### Data Types\n",
    "\n",
    "There are eight kinds of types supported by Python:\n",
    "\n",
    "1. **bool:** Boolean (true/false) types. Supported precisions: 8 (default) bits.\n",
    "2. **int:** Signed integer types. Supported precisions: 8, 16, 32 (default), and 64 bits.\n",
    "3. **uint:** Unsigned integer types. Supported precisions: 8, 16, 32 (default), and 64 bits.\n",
    "4. **float:** Floating point types. Supported precisions: 16, 32, 64 (default) bits and extended precision\n",
    "floating point.\n",
    "5. **complex:** Complex number types. Supported precisions: 64 (32+32), 128 (64+64, default) bits, and\n",
    "extended precision complex.\n",
    "6. **string:** Raw string types. Supported precisions: 8-bit positive multiples.\n",
    "7. **time:** Data/time types. Supported precisions: 32 and 64 (default) bits.\n"
   ]
  },
  {
   "cell_type": "code",
   "execution_count": 6,
   "id": "386d4560-03f0-461e-9223-98e8e530929f",
   "metadata": {},
   "outputs": [
    {
     "name": "stdout",
     "output_type": "stream",
     "text": [
      "Data Science\n"
     ]
    },
    {
     "data": {
      "text/plain": [
       "str"
      ]
     },
     "execution_count": 6,
     "metadata": {},
     "output_type": "execute_result"
    }
   ],
   "source": [
    "# bool, int, float, str\n",
    "\n",
    "a=\"Data Science\"\n",
    "print(a)\n",
    "type(a)"
   ]
  },
  {
   "cell_type": "code",
   "execution_count": 7,
   "id": "13e3c8b7-f2d4-4d3b-8297-3173cbd47d68",
   "metadata": {},
   "outputs": [
    {
     "data": {
      "text/plain": [
       "bool"
      ]
     },
     "execution_count": 7,
     "metadata": {},
     "output_type": "execute_result"
    }
   ],
   "source": [
    "z=True\n",
    "type(z)"
   ]
  },
  {
   "cell_type": "markdown",
   "id": "54693e36-3ddf-4aa2-baf4-2c2cb6210e80",
   "metadata": {},
   "source": [
    "### Type Casting:\n",
    "\n",
    "The conversion of one data type into the other data type is known as type casting in Python or type\n",
    "conversion in Python. "
   ]
  },
  {
   "cell_type": "code",
   "execution_count": 8,
   "id": "263d4b47-451e-4f1a-9c8a-d778c306cd96",
   "metadata": {},
   "outputs": [
    {
     "data": {
      "text/plain": [
       "14.5"
      ]
     },
     "execution_count": 8,
     "metadata": {},
     "output_type": "execute_result"
    }
   ],
   "source": [
    "# bool -> int -> float -> str\n",
    "True + 6 + 7.5\n",
    "\n",
    "#1+6+7.5"
   ]
  },
  {
   "cell_type": "code",
   "execution_count": 9,
   "id": "119b516b-bb83-4863-987d-dfc401a68851",
   "metadata": {},
   "outputs": [
    {
     "data": {
      "text/plain": [
       "10"
      ]
     },
     "execution_count": 9,
     "metadata": {},
     "output_type": "execute_result"
    }
   ],
   "source": [
    "int(7.9)+3"
   ]
  },
  {
   "cell_type": "code",
   "execution_count": 10,
   "id": "0c2faecd-0b18-4123-b8b2-1aa79c0c8b0e",
   "metadata": {},
   "outputs": [
    {
     "data": {
      "text/plain": [
       "False"
      ]
     },
     "execution_count": 10,
     "metadata": {},
     "output_type": "execute_result"
    }
   ],
   "source": [
    "bool(0)"
   ]
  },
  {
   "cell_type": "code",
   "execution_count": 11,
   "id": "d18d5014-e1b1-4aa7-b8aa-c21f385848b9",
   "metadata": {},
   "outputs": [
    {
     "data": {
      "text/plain": [
       "8"
      ]
     },
     "execution_count": 11,
     "metadata": {},
     "output_type": "execute_result"
    }
   ],
   "source": [
    "# Auto Typecasting:\n",
    "\n",
    "True + 3 + int(4.5)"
   ]
  },
  {
   "cell_type": "code",
   "execution_count": 12,
   "id": "44091331-444a-497b-a650-287e2ea51677",
   "metadata": {},
   "outputs": [
    {
     "name": "stdout",
     "output_type": "stream",
     "text": [
      "<class 'int'>\n",
      "<class 'float'>\n"
     ]
    }
   ],
   "source": [
    "a=3\n",
    "b=4.5\n",
    "print(type(a))\n",
    "print(type(b))"
   ]
  },
  {
   "cell_type": "code",
   "execution_count": 13,
   "id": "a122dbf7-3579-441a-bdb6-33bbecb1344b",
   "metadata": {},
   "outputs": [
    {
     "data": {
      "text/plain": [
       "7"
      ]
     },
     "execution_count": 13,
     "metadata": {},
     "output_type": "execute_result"
    }
   ],
   "source": [
    "a+int(b)"
   ]
  },
  {
   "cell_type": "code",
   "execution_count": 14,
   "id": "482e53ee-c7d8-4410-9139-ccf03f66c7f8",
   "metadata": {},
   "outputs": [
    {
     "data": {
      "text/plain": [
       "7"
      ]
     },
     "execution_count": 14,
     "metadata": {},
     "output_type": "execute_result"
    }
   ],
   "source": [
    "3+int(\"4\")"
   ]
  },
  {
   "cell_type": "code",
   "execution_count": 15,
   "id": "56969d79-3abf-4351-9e0e-dd6764bab50b",
   "metadata": {},
   "outputs": [
    {
     "data": {
      "text/plain": [
       "7.5"
      ]
     },
     "execution_count": 15,
     "metadata": {},
     "output_type": "execute_result"
    }
   ],
   "source": [
    "3+float(\"4.5\")"
   ]
  },
  {
   "cell_type": "code",
   "execution_count": 16,
   "id": "5c79d6a7-0d4c-4df6-ac89-43a29f4c3a41",
   "metadata": {},
   "outputs": [
    {
     "data": {
      "text/plain": [
       "4"
      ]
     },
     "execution_count": 16,
     "metadata": {},
     "output_type": "execute_result"
    }
   ],
   "source": [
    "# True -> 1, False -> 0\n",
    "False + 4"
   ]
  },
  {
   "cell_type": "markdown",
   "id": "a630a2c9-58a6-4061-af17-36dd6d7cd805",
   "metadata": {},
   "source": [
    "### Conversion to `int`"
   ]
  },
  {
   "cell_type": "code",
   "execution_count": 17,
   "id": "8160866d-2855-4039-abc5-d992a9651160",
   "metadata": {},
   "outputs": [
    {
     "name": "stdout",
     "output_type": "stream",
     "text": [
      "123\n",
      "1\n",
      "0\n",
      "0\n",
      "10\n"
     ]
    }
   ],
   "source": [
    "print(int(123.987))\n",
    "\n",
    "print(int(True))\n",
    "print(int(0))\n",
    "print(int(False))\n",
    "print(int(\"10\"))\n"
   ]
  },
  {
   "cell_type": "code",
   "execution_count": 18,
   "id": "927db41f-ee4b-4f66-a252-e4eb978630ad",
   "metadata": {},
   "outputs": [
    {
     "ename": "TypeError",
     "evalue": "int() argument must be a string, a bytes-like object or a real number, not 'complex'",
     "output_type": "error",
     "traceback": [
      "\u001b[1;31m---------------------------------------------------------------------------\u001b[0m",
      "\u001b[1;31mTypeError\u001b[0m                                 Traceback (most recent call last)",
      "Cell \u001b[1;32mIn[18], line 1\u001b[0m\n\u001b[1;32m----> 1\u001b[0m \u001b[38;5;28mprint\u001b[39m(\u001b[38;5;28mint\u001b[39m(\u001b[38;5;241m10\u001b[39m\u001b[38;5;241m+\u001b[39m\u001b[38;5;241m5\u001b[39mj))\n",
      "\u001b[1;31mTypeError\u001b[0m: int() argument must be a string, a bytes-like object or a real number, not 'complex'"
     ]
    }
   ],
   "source": [
    "print(int(10+5j))"
   ]
  },
  {
   "cell_type": "code",
   "execution_count": null,
   "id": "4e182645-74f3-4c61-ac1d-40b85491e24c",
   "metadata": {},
   "outputs": [],
   "source": [
    "print(int(\"10.5\"))"
   ]
  },
  {
   "cell_type": "code",
   "execution_count": null,
   "id": "762057bf-1a0f-45f8-87e9-9644ef698fc5",
   "metadata": {},
   "outputs": [],
   "source": [
    "print(int(\"ten\"))"
   ]
  },
  {
   "cell_type": "code",
   "execution_count": null,
   "id": "f9e948a6-31a5-4c25-9890-46791ef3b07d",
   "metadata": {},
   "outputs": [],
   "source": [
    "print(int(\"0B1111\"))"
   ]
  },
  {
   "cell_type": "markdown",
   "id": "a2488f7a-afbd-4172-905e-ef9dabbff5de",
   "metadata": {},
   "source": [
    "### Conversion to `float`"
   ]
  },
  {
   "cell_type": "code",
   "execution_count": null,
   "id": "6568a131-df1d-444e-a83e-d384902bda05",
   "metadata": {},
   "outputs": [],
   "source": [
    "print(float(10))      # 10.0 \n",
    "print(float(True))      # 1.0\n",
    "print(float(False))      # 0.0\n",
    "print(float(\"10\"))      # 10.0\n",
    "print(float(\"10.5\"))      # 10.5"
   ]
  },
  {
   "cell_type": "code",
   "execution_count": null,
   "id": "33c49b3d-d838-4617-9f57-409d2178f3ce",
   "metadata": {},
   "outputs": [],
   "source": [
    "float(10 + 5j) # TypeError: can't convert complex to float"
   ]
  },
  {
   "cell_type": "code",
   "execution_count": null,
   "id": "ff74b79a-7b79-4418-ba8e-7ceb2acf5933",
   "metadata": {},
   "outputs": [],
   "source": [
    "float(\"ten\")       # ValueError: could not convert string to float: 'ten'\n"
   ]
  },
  {
   "cell_type": "code",
   "execution_count": 19,
   "id": "25b673a1-4959-4086-9d74-0f954eb1c666",
   "metadata": {},
   "outputs": [
    {
     "ename": "ValueError",
     "evalue": "could not convert string to float: '0B1111'",
     "output_type": "error",
     "traceback": [
      "\u001b[1;31m---------------------------------------------------------------------------\u001b[0m",
      "\u001b[1;31mValueError\u001b[0m                                Traceback (most recent call last)",
      "Cell \u001b[1;32mIn[19], line 1\u001b[0m\n\u001b[1;32m----> 1\u001b[0m \u001b[38;5;28mfloat\u001b[39m(\u001b[38;5;124m\"\u001b[39m\u001b[38;5;124m0B1111\u001b[39m\u001b[38;5;124m\"\u001b[39m)\n",
      "\u001b[1;31mValueError\u001b[0m: could not convert string to float: '0B1111'"
     ]
    }
   ],
   "source": [
    "float(\"0B1111\")    # ValueError: could not convert string to float: '0B1111'"
   ]
  },
  {
   "cell_type": "markdown",
   "id": "ee51cfa9-69cc-4ea6-9b17-6519c18a2478",
   "metadata": {},
   "source": [
    "### Conversion to `bool`"
   ]
  },
  {
   "cell_type": "code",
   "execution_count": 20,
   "id": "00396802-1d3d-4df3-87df-9822ea6c3ba2",
   "metadata": {},
   "outputs": [
    {
     "name": "stdout",
     "output_type": "stream",
     "text": [
      "False\n",
      "True\n",
      "True\n",
      "True\n",
      "True\n",
      "False\n",
      "True\n",
      "True\n",
      "False\n",
      "True\n",
      "True\n",
      "False\n"
     ]
    }
   ],
   "source": [
    "print(bool(0)        )    # False\n",
    "print(bool(1)        )    # True\n",
    "print(bool(10)       )    # True\n",
    "print(bool(10.5)     )    # True\n",
    "print(bool(0.178)    )    # True\n",
    "print(bool(0.0)      )    # False\n",
    "print(bool(10 - 2j)  )    # True\n",
    "print(bool(0 + 1.5j) )    # True\n",
    "print(bool(0 + 0j)   )    # False\n",
    "print(bool(\"True\")   )    # True\n",
    "print(bool(\"False\")  )    # True\n",
    "print(bool(\"\")       )    # False\n"
   ]
  },
  {
   "cell_type": "markdown",
   "id": "c97a9106-c2d4-4bce-ac16-11d7c2a26fc7",
   "metadata": {},
   "source": [
    "### String Indexing and Slicing"
   ]
  },
  {
   "cell_type": "code",
   "execution_count": 21,
   "id": "55888d42-8700-4494-9349-94b012b1a89d",
   "metadata": {},
   "outputs": [
    {
     "data": {
      "text/plain": [
       "'I am a Data Scientist'"
      ]
     },
     "execution_count": 21,
     "metadata": {},
     "output_type": "execute_result"
    }
   ],
   "source": [
    "a = \"I am a Data Scientist\"  # Indexing starts from 0. Example: 'I' is index 0, ' ' is index 1, 'a' is index 2, and so on.\n",
    "a                             # 'I am a Data Scientist'"
   ]
  },
  {
   "cell_type": "code",
   "execution_count": 22,
   "id": "1681b0eb-b85f-41d6-94ae-414ac5439dcd",
   "metadata": {},
   "outputs": [
    {
     "data": {
      "text/plain": [
       "'am'"
      ]
     },
     "execution_count": 22,
     "metadata": {},
     "output_type": "execute_result"
    }
   ],
   "source": [
    "a[2:4]                        # 'am'\n",
    "                              # It will print letters which are at index 2 and 3, excluding index 4."
   ]
  },
  {
   "cell_type": "code",
   "execution_count": 23,
   "id": "aa47db57-8e4e-4751-8015-7519ebcb0e65",
   "metadata": {},
   "outputs": [
    {
     "data": {
      "text/plain": [
       "'Scientist'"
      ]
     },
     "execution_count": 23,
     "metadata": {},
     "output_type": "execute_result"
    }
   ],
   "source": [
    "a[-9:]                        # 'Scientist'\n",
    "                              # From index -9, it prints all letters including the word at index 9."
   ]
  },
  {
   "cell_type": "code",
   "execution_count": 24,
   "id": "e563c05e-a2ec-4a46-8634-a8585e312d96",
   "metadata": {},
   "outputs": [
    {
     "data": {
      "text/plain": [
       "'Data Scientist'"
      ]
     },
     "execution_count": 24,
     "metadata": {},
     "output_type": "execute_result"
    }
   ],
   "source": [
    "a[7:]                         # 'Data Scientist'\n",
    "                              # Slicing from index 7 (inclusive) till the end."
   ]
  },
  {
   "cell_type": "markdown",
   "id": "157437bb-235a-42d0-ad20-5ec1f65f8082",
   "metadata": {},
   "source": [
    "### Explanation:\n",
    "\n",
    "1. **Conversion to `float`:**\n",
    "   - Demonstrates how different types (integers, booleans, strings) can be converted to floats and what errors may occur.\n",
    "   \n",
    "2. **Conversion to `bool`:**\n",
    "   - Shows how different values (numbers, strings, complex numbers) are evaluated to booleans in Python.\n",
    "   \n",
    "3. **String Indexing and Slicing:**\n",
    "   - Explains various ways to access and slice strings using indexing in Python.\n"
   ]
  },
  {
   "cell_type": "code",
   "execution_count": 25,
   "id": "4ec4ddb7-4c10-403a-b3ac-34d243715e22",
   "metadata": {},
   "outputs": [
    {
     "name": "stdout",
     "output_type": "stream",
     "text": [
      "[3, 4, 5, 6]\n",
      "[2, 3, 4, 5, 6, 7, 8, 9, 10]\n",
      "[1, 2, 3, 4, 5]\n",
      "[1, 3, 5, 7, 9]\n"
     ]
    }
   ],
   "source": [
    "# Slicing a list \n",
    "my_list=[1,2,3,4,5,6,7,8,9,10]\n",
    "\n",
    "# Get a slice of the list from index 2 to index 6 (exclusive)\n",
    "\n",
    "slice_1=my_list[2:6]\n",
    "print(slice_1) #Output: [3, 4, 5, 6]\n",
    "\n",
    "# Get a slice of the list from index 1 to the end\n",
    "\n",
    "slice_2=my_list[1:]\n",
    "print(slice_2) #Output: [2, 3, 4, 5, 6, 7, 8, 9, 10]\n",
    "\n",
    "# Get a slice of the list from the beginning to index 5 (exclusive)\n",
    "\n",
    "slice_3=my_list[:5]\n",
    "print(slice_3) #Output: [1, 2, 3, 4, 5]\n",
    "\n",
    "# Get a slice of the list with a step size of 2\n",
    "\n",
    "slice_4=my_list[::2]\n",
    "print(slice_4) #Output: [1, 3, 5, 7, 9]"
   ]
  },
  {
   "cell_type": "code",
   "execution_count": 26,
   "id": "105c1970-33a3-47c7-b2cc-00219d4b020a",
   "metadata": {},
   "outputs": [
    {
     "name": "stdout",
     "output_type": "stream",
     "text": [
      "[9, 10]\n",
      "[1, 2, 3, 4, 5, 6, 7]\n",
      "[10, 9, 8, 7, 6, 5, 4, 3, 2, 1]\n"
     ]
    }
   ],
   "source": [
    "# Slicing with negative indices\n",
    "\n",
    "my_list=[1,2,3,4,5,6,7,8,9,10]\n",
    "\n",
    "# Get a slice of the list from the second last element to the end\n",
    "slice_8=my_list[-2:]\n",
    "\n",
    "print(slice_8)\n",
    "\n",
    "# Get a slice of the list from the beginning to the third last element (exclusive)\n",
    "\n",
    "slice_9=my_list[:-3]\n",
    "\n",
    "print(slice_9)\n",
    "\n",
    "# Get a slice of the list in reverse order\n",
    "\n",
    "slice_10=my_list[::-1]\n",
    "\n",
    "print(slice_10)\n"
   ]
  },
  {
   "cell_type": "markdown",
   "id": "33a91594-ac58-4d23-9630-db4380a67ed6",
   "metadata": {},
   "source": [
    "### Math operators: Arithmetic Operators\n",
    "\n",
    "Arithmetic operators are used with numeric values to perform common mathematical operations"
   ]
  },
  {
   "cell_type": "code",
   "execution_count": 27,
   "id": "6ba8ff0e-a400-4e4a-ae28-4694e43b03b5",
   "metadata": {},
   "outputs": [
    {
     "name": "stdout",
     "output_type": "stream",
     "text": [
      "14\n",
      "6\n",
      "40\n",
      "10000\n",
      "2.5\n",
      "1\n"
     ]
    }
   ],
   "source": [
    "print(10 + 4)   # Adds 10 and 4, resulting in 14\n",
    "print(10 - 4)   # Subtracts 4 from 10, resulting in 6\n",
    "print(10 * 4)   # Multiplies 10 by 4, resulting in 40\n",
    "print(10 ** 4)  # Raises 10 to the power of 4, resulting in 10000\n",
    "print(10 / 4)   # Divides 10 by 4, resulting in 2.5\n",
    "print(5 % 4)    # Computes the remainder of 5 divided by 4, resulting in 1\n"
   ]
  },
  {
   "cell_type": "markdown",
   "id": "28a524ac-61d3-4359-b979-680b18b54e6e",
   "metadata": {},
   "source": [
    "### Math operators: Logical / Comparison\n",
    "\n",
    "Logical operators are used to combine conditional statements while Comparison operators are used to compare two values."
   ]
  },
  {
   "cell_type": "code",
   "execution_count": 28,
   "id": "3bcf7996-5707-4e3b-9f1b-79d2126cdb7d",
   "metadata": {},
   "outputs": [
    {
     "name": "stdout",
     "output_type": "stream",
     "text": [
      "True\n",
      "True\n",
      "False\n",
      "True\n"
     ]
    }
   ],
   "source": [
    "# Comparisons (these return True)\n",
    "\n",
    "print(5>3)\n",
    "print(5>=3)\n",
    "print(5!=5)\n",
    "print(5==5) #boolean operations (these return True)"
   ]
  },
  {
   "cell_type": "markdown",
   "id": "c227f0ed-bcd5-40fc-8808-454366d32278",
   "metadata": {},
   "source": [
    "### Equality Operators\n",
    "\n",
    "== , !=\r\n",
    "We can apply these operators for any type even for incompatible types als\r"
   ]
  },
  {
   "cell_type": "code",
   "execution_count": 29,
   "id": "1c8244fb-7ed4-4840-a1b8-685de6202415",
   "metadata": {},
   "outputs": [
    {
     "data": {
      "text/plain": [
       "False"
      ]
     },
     "execution_count": 29,
     "metadata": {},
     "output_type": "execute_result"
    }
   ],
   "source": [
    "10==20"
   ]
  },
  {
   "cell_type": "code",
   "execution_count": 30,
   "id": "6b1ee4db-8e17-4a23-a135-41fa7e423bdc",
   "metadata": {},
   "outputs": [
    {
     "data": {
      "text/plain": [
       "True"
      ]
     },
     "execution_count": 30,
     "metadata": {},
     "output_type": "execute_result"
    }
   ],
   "source": [
    "10!=20"
   ]
  },
  {
   "cell_type": "code",
   "execution_count": 31,
   "id": "677e8270-b5d2-4098-ac1a-afef1b2b00e2",
   "metadata": {},
   "outputs": [
    {
     "data": {
      "text/plain": [
       "False"
      ]
     },
     "execution_count": 31,
     "metadata": {},
     "output_type": "execute_result"
    }
   ],
   "source": [
    "10==True"
   ]
  },
  {
   "cell_type": "code",
   "execution_count": 32,
   "id": "216d1ad1-8fec-4521-b89b-7578e46a4f8e",
   "metadata": {},
   "outputs": [
    {
     "data": {
      "text/plain": [
       "True"
      ]
     },
     "execution_count": 32,
     "metadata": {},
     "output_type": "execute_result"
    }
   ],
   "source": [
    "False==False"
   ]
  },
  {
   "cell_type": "code",
   "execution_count": 33,
   "id": "97d47e60-6da9-423d-9bf5-2a9509c9c382",
   "metadata": {},
   "outputs": [
    {
     "data": {
      "text/plain": [
       "True"
      ]
     },
     "execution_count": 33,
     "metadata": {},
     "output_type": "execute_result"
    }
   ],
   "source": [
    "\"durga\"==\"durga\""
   ]
  },
  {
   "cell_type": "code",
   "execution_count": 34,
   "id": "d91f4cec-eb2c-44cb-95f5-c56b698c2549",
   "metadata": {},
   "outputs": [
    {
     "data": {
      "text/plain": [
       "False"
      ]
     },
     "execution_count": 34,
     "metadata": {},
     "output_type": "execute_result"
    }
   ],
   "source": [
    "10==\"durga\""
   ]
  },
  {
   "cell_type": "markdown",
   "id": "1327d6d9-576a-4aca-bfeb-372c14a0984d",
   "metadata": {},
   "source": [
    "### Logical Operators\n",
    "`and`, `or`, `not`\n",
    "\n",
    "#### Boolean Types Behavior\n",
    "\n",
    "- `and`: If both arguments are `True`, then the result is `True`\n",
    "- `or`: If at least one argument is `True`, then the result is `True`\n",
    "- `not`: Complement of the boolean value\n",
    "- `True and False` ⇒ `False`\n",
    "- `True or False` ⇒ `True`\n",
    "- `not False` ⇒ `True`\n",
    "\n",
    "#### Non-Boolean Types Behavior\n",
    "\n",
    "- `0` means `False`\n",
    "- Non-zero values mean `True`\n",
    "- An empty string is always treated as `False`\n"
   ]
  },
  {
   "cell_type": "code",
   "execution_count": 35,
   "id": "bfb7fcbc-f846-41c5-89ad-93b5cd02bc25",
   "metadata": {},
   "outputs": [
    {
     "name": "stdout",
     "output_type": "stream",
     "text": [
      "Both a and b are greater than 0\n"
     ]
    }
   ],
   "source": [
    "# Logical AND operator\n",
    "\n",
    "a=10\n",
    "b=20\n",
    "\n",
    "if a>0 and b>0:\n",
    "    print(\"Both a and b are greater than 0\")"
   ]
  },
  {
   "cell_type": "code",
   "execution_count": 36,
   "id": "527a9963-88db-453a-be9e-16d80bee7dd9",
   "metadata": {},
   "outputs": [
    {
     "name": "stdout",
     "output_type": "stream",
     "text": [
      "Either a or b is greater than 0\n"
     ]
    }
   ],
   "source": [
    "# Logical OR operator\n",
    "a=10\n",
    "b=-5\n",
    "if a>0 or b>0:\n",
    "    print(\"Either a or b is greater than 0\")"
   ]
  },
  {
   "cell_type": "code",
   "execution_count": 37,
   "id": "7441f286-afdd-4bf1-bbb3-bc8336e8532a",
   "metadata": {},
   "outputs": [
    {
     "name": "stdout",
     "output_type": "stream",
     "text": [
      "a is True\n"
     ]
    }
   ],
   "source": [
    "# Logical NOT operator\n",
    "\n",
    "a=True\n",
    "if not a:\n",
    "    print(\"a is False\")\n",
    "else:\n",
    "    print(\"a is True\")"
   ]
  },
  {
   "cell_type": "markdown",
   "id": "cbf1b06a-e04c-476a-9dea-7b16587e255a",
   "metadata": {},
   "source": [
    "### Bitwise Operators\n",
    "\n",
    "- **Bitwise AND (`&`):**\n",
    "  Sets each bit to 1 if both corresponding bits are 1, otherwise sets it to 0.\n",
    "\n",
    "- **Bitwise OR (`|`):**\n",
    "  Sets each bit to 1 if at least one of the corresponding bits is 1, otherwise sets it to 0.\n",
    "\n",
    "- **Bitwise XOR (`^`):**\n",
    "  Sets each bit to 1 if only one of the corresponding bits is 1, otherwise sets it to 0.\n",
    "\n",
    "- **Bitwise NOT (`~`):**\n",
    "  Flips the bits, changing 1 to 0 and 0 to 1.\n",
    "\n",
    "- **Left Shift (`<<`):**\n",
    "  Shifts the bits of the number to the left by the specified number of positions.\n",
    "  The leftmost bits are filled with zeros.\n",
    "\n",
    "- **Right Shift (`>>`):**\n",
    "  Shifts the bits of the number to the right by the specified number of positions.\n",
    "  The rightmost bits are filled with zeros for non-negative numbers and with ones for negative numbers (arithmetic right shift).\n"
   ]
  },
  {
   "cell_type": "code",
   "execution_count": 38,
   "id": "61c6013b-89aa-4362-a9d6-d31921592c53",
   "metadata": {},
   "outputs": [
    {
     "name": "stdout",
     "output_type": "stream",
     "text": [
      "4\n"
     ]
    }
   ],
   "source": [
    "# Bitwise AND\n",
    "a=12 #1100 in binary\n",
    "b=7  #0111 in binary\n",
    "result=a&b # 0100 in binary\n",
    "print(result) #Output: 4"
   ]
  },
  {
   "cell_type": "code",
   "execution_count": 39,
   "id": "db0a01a2-3484-46d7-8fd5-e8c930da4b0b",
   "metadata": {},
   "outputs": [
    {
     "name": "stdout",
     "output_type": "stream",
     "text": [
      "11\n"
     ]
    }
   ],
   "source": [
    "# Bitwise XOR\n",
    "\n",
    "a=12 #1100 in binary\n",
    "b=7  #0111 in binary\n",
    "result=a^b # 0100 in binary\n",
    "print(result) #Output: 11"
   ]
  },
  {
   "cell_type": "code",
   "execution_count": 40,
   "id": "2470231d-8f8d-40fc-aa60-6b7b8d1f5442",
   "metadata": {},
   "outputs": [
    {
     "name": "stdout",
     "output_type": "stream",
     "text": [
      "15\n"
     ]
    }
   ],
   "source": [
    "# Bitwise OR\n",
    "\n",
    "a=12 #1100 in binary\n",
    "b=7  #0111 in binary\n",
    "result=a|b # 0100 in binary\n",
    "print(result) #Output: 15"
   ]
  },
  {
   "cell_type": "code",
   "execution_count": 41,
   "id": "77178dff-79f4-4762-a3d1-ddc1656a68b3",
   "metadata": {},
   "outputs": [
    {
     "name": "stdout",
     "output_type": "stream",
     "text": [
      "-13\n"
     ]
    }
   ],
   "source": [
    "# Bitwise NOT\n",
    "\n",
    "a=12 #1100 in binary\n",
    "result=~a # -13 in decimal\n",
    "print(result) #Output: -13"
   ]
  },
  {
   "cell_type": "code",
   "execution_count": 42,
   "id": "cc670a69-52fa-4501-a5ce-97932b60866f",
   "metadata": {},
   "outputs": [
    {
     "name": "stdout",
     "output_type": "stream",
     "text": [
      "20\n",
      "3\n"
     ]
    }
   ],
   "source": [
    "# Left Shift\n",
    "a=5 #0101 in binary\n",
    "result=a<<2 #010100 in binary, equivalent to 20 in decimal\n",
    "print(result) #Output: 20\n",
    "\n",
    "# Right Shift\n",
    "a=13 #1101 in binary\n",
    "result=a>>2 # 0011 in binary, equivalent to 3 in decimal\n",
    "print(result) #Output: 3"
   ]
  },
  {
   "cell_type": "code",
   "execution_count": 43,
   "id": "b6ebae9f-d4bd-4e65-9d3c-2315e5a4468f",
   "metadata": {},
   "outputs": [
    {
     "name": "stdout",
     "output_type": "stream",
     "text": [
      "10\n"
     ]
    }
   ],
   "source": [
    "# Assignment operator\n",
    "\n",
    "x=10\n",
    "print(x) #Output: 10"
   ]
  },
  {
   "cell_type": "code",
   "execution_count": 44,
   "id": "b58377ef-7b52-4f0c-97f8-856e0650e2f8",
   "metadata": {},
   "outputs": [
    {
     "name": "stdout",
     "output_type": "stream",
     "text": [
      "15\n"
     ]
    }
   ],
   "source": [
    "# Addition assignment\n",
    "\n",
    "x+= 5 # Equivalent to x=x+5\n",
    "print(x) # Output: 15"
   ]
  },
  {
   "cell_type": "code",
   "execution_count": 45,
   "id": "9b7e12ec-169c-4d9e-9dee-4596f0fbc967",
   "metadata": {},
   "outputs": [
    {
     "name": "stdout",
     "output_type": "stream",
     "text": [
      "12\n"
     ]
    }
   ],
   "source": [
    "# Substraction assignment\n",
    "x-=3 # Equivalent to x=x-3\n",
    "print(x) # Output: 12"
   ]
  },
  {
   "cell_type": "code",
   "execution_count": 46,
   "id": "ae3b7c67-c7a5-4dcd-aa36-bd7ce7618bd8",
   "metadata": {},
   "outputs": [
    {
     "name": "stdout",
     "output_type": "stream",
     "text": [
      "24\n"
     ]
    }
   ],
   "source": [
    "# Multiplication assignment\n",
    "x*=2 # Equivalent to x=x*2\n",
    "print(x) # Output=24"
   ]
  },
  {
   "cell_type": "code",
   "execution_count": 47,
   "id": "ce558530-2f5a-4163-8505-f093be1a4906",
   "metadata": {},
   "outputs": [
    {
     "name": "stdout",
     "output_type": "stream",
     "text": [
      "6.0\n"
     ]
    }
   ],
   "source": [
    "# Division assignment\n",
    "\n",
    "x/=4 # Equivalent to x=x/4\n",
    "print(x) # Output: 6.0"
   ]
  },
  {
   "cell_type": "code",
   "execution_count": 48,
   "id": "5e76367b-fc71-4b26-9244-7d847118ec52",
   "metadata": {},
   "outputs": [
    {
     "name": "stdout",
     "output_type": "stream",
     "text": [
      "0.0\n"
     ]
    }
   ],
   "source": [
    "# Modulus assignment\n",
    "\n",
    "x %=3 # Equivalent to x= x%3\n",
    "\n",
    "print(x) #Output: 0.0"
   ]
  },
  {
   "cell_type": "code",
   "execution_count": 49,
   "id": "f60faa66-d98d-47c2-b8f0-fad23957a756",
   "metadata": {},
   "outputs": [
    {
     "name": "stdout",
     "output_type": "stream",
     "text": [
      "0.0\n"
     ]
    }
   ],
   "source": [
    "# Exponentiation assignment\n",
    "x **=2 #Equivalent to x=x**2\n",
    "print(x) # Output: 0.0"
   ]
  },
  {
   "cell_type": "code",
   "execution_count": 50,
   "id": "0e1b7f2d-6216-44a5-a3e6-341cfaa3d949",
   "metadata": {},
   "outputs": [
    {
     "name": "stdout",
     "output_type": "stream",
     "text": [
      "0.0\n"
     ]
    }
   ],
   "source": [
    "# Floor division assignment\n",
    "x//=3 #Equivalent to x=x//3\n",
    "print(x) #Output: 0"
   ]
  },
  {
   "cell_type": "code",
   "execution_count": 51,
   "id": "6f137561-411a-474c-94a1-ac2511f98bd7",
   "metadata": {},
   "outputs": [
    {
     "name": "stdout",
     "output_type": "stream",
     "text": [
      "15\n",
      "5\n",
      "50\n",
      "2.0\n",
      "0\n",
      "1000\n",
      "3\n"
     ]
    }
   ],
   "source": [
    "# Aritmetic operators\n",
    "\n",
    "x = 10 + 5        # Adds 10 and 5, resulting in 15\n",
    "print(x)\n",
    "\n",
    "y = 10 - 5        # Subtracts 5 from 10, resulting in 5\n",
    "print(y)\n",
    "\n",
    "z = 10 * 5        # Multiplies 10 by 5, resulting in 50\n",
    "print(z)\n",
    "\n",
    "w = 10 / 5        # Divides 10 by 5, resulting in 2.0\n",
    "print(w)\n",
    "\n",
    "mod = 10 % 5      # Computes the remainder of 10 divided by 5, resulting in 0\n",
    "print(mod)\n",
    "\n",
    "exp = 10 ** 3     # Raises 10 to the power of 3, resulting in 1000\n",
    "print(exp)\n",
    "\n",
    "floor_div = 10 // 3  # Performs floor division of 10 by 3, resulting in 3\n",
    "print(floor_div)\n"
   ]
  },
  {
   "cell_type": "code",
   "execution_count": 52,
   "id": "7bc7ee94-a216-43d9-ba6a-2eff63f5fd4f",
   "metadata": {},
   "outputs": [
    {
     "name": "stdout",
     "output_type": "stream",
     "text": [
      "8\n",
      "2\n",
      "15\n",
      "1.6666666666666667\n",
      "2\n",
      "125\n",
      "1\n"
     ]
    }
   ],
   "source": [
    "# Assignment operators\n",
    "\n",
    "a = 5       # Initialize 'a' with 5\n",
    "a += 3      # Increment 'a' by 3 (a = a + 3), resulting in 8\n",
    "print(a)\n",
    "\n",
    "b = 5       # Initialize 'b' with 5\n",
    "b -= 3      # Decrement 'b' by 3 (b = b - 3), resulting in 2\n",
    "print(b)\n",
    "\n",
    "c = 5       # Initialize 'c' with 5\n",
    "c *= 3      # Multiply 'c' by 3 (c = c * 3), resulting in 15\n",
    "print(c)\n",
    "\n",
    "d = 5       # Initialize 'd' with 5\n",
    "d /= 3      # Divide 'd' by 3 (d = d / 3), resulting in approximately 1.6667\n",
    "print(d)\n",
    "\n",
    "e = 5       # Initialize 'e' with 5\n",
    "e %= 3      # Assign the remainder of 'e' divided by 3 to 'e' (e = e % 3), resulting in 2\n",
    "print(e)\n",
    "\n",
    "f = 5       # Initialize 'f' with 5\n",
    "f **= 3     # Raise 'f' to the power of 3 (f = f ** 3), resulting in 125\n",
    "print(f)\n",
    "\n",
    "g = 5       # Initialize 'g' with 5\n",
    "g //= 3     # Perform floor division on 'g' by 3 (g = g // 3), resulting in 1\n",
    "print(g)"
   ]
  },
  {
   "cell_type": "code",
   "execution_count": 53,
   "id": "66a54f8d-fefd-45fb-996b-ed61d3fab972",
   "metadata": {},
   "outputs": [
    {
     "name": "stdout",
     "output_type": "stream",
     "text": [
      "False\n",
      "True\n",
      "False\n",
      "True\n",
      "False\n",
      "True\n"
     ]
    }
   ],
   "source": [
    "# Comparison operators\n",
    "x=5         \n",
    "y=10         \n",
    "print(x==y)  #Output: False        \n",
    "print(x!=y)  #Output: True       \n",
    "print(x>y)   #Output: False      \n",
    "print(x<y)   #Output: True      \n",
    "print(x>=y)  #Output: False       \n",
    "print(x<=y)  #Output: True       "
   ]
  },
  {
   "cell_type": "code",
   "execution_count": 54,
   "id": "8c31dfd8-4039-41cf-b146-204bf121d60d",
   "metadata": {},
   "outputs": [
    {
     "name": "stdout",
     "output_type": "stream",
     "text": [
      "False\n",
      "True\n",
      "False\n"
     ]
    }
   ],
   "source": [
    "# Logical Operators\n",
    "\n",
    "a= True\n",
    "b= False\n",
    "\n",
    "print(a and b)  #Output: False\n",
    "print(a or b)  #Output: True\n",
    "print(not a)  #Output: False"
   ]
  },
  {
   "cell_type": "code",
   "execution_count": 55,
   "id": "4c754a04-0422-4692-a5d4-304be283f3c3",
   "metadata": {},
   "outputs": [
    {
     "name": "stdout",
     "output_type": "stream",
     "text": [
      "2\n",
      "15\n",
      "13\n",
      "-11\n",
      "40\n",
      "2\n"
     ]
    }
   ],
   "source": [
    "# Bitwise operators\n",
    "x = 10   # Initialize 'x' with 10 (binary: 1010)\n",
    "y = 7    # Initialize 'y' with 7 (binary: 0111)\n",
    "\n",
    "print(x & y)   # Bitwise AND: 10 & 7 -> 2 (binary: 0010)\n",
    "print(x | y)   # Bitwise OR: 10 | 7 -> 15 (binary: 1111)\n",
    "print(x ^ y)   # Bitwise XOR: 10 ^ 7 -> 13 (binary: 1101)\n",
    "print(~x)      # Bitwise NOT: ~10 -> -11 (binary: 1010 becomes 0101 with inversion, then 2's complement)\n",
    "print(x << 2)  # Left Shift: 10 << 2 -> 40 (binary: 1010 becomes 101000)\n",
    "print(x >> 2)  # Right Shift: 10 >> 2 -> 2 (binary: 1010 becomes 10)\n"
   ]
  }
 ],
 "metadata": {
  "kernelspec": {
   "display_name": "Python 3 (ipykernel)",
   "language": "python",
   "name": "python3"
  },
  "language_info": {
   "codemirror_mode": {
    "name": "ipython",
    "version": 3
   },
   "file_extension": ".py",
   "mimetype": "text/x-python",
   "name": "python",
   "nbconvert_exporter": "python",
   "pygments_lexer": "ipython3",
   "version": "3.11.7"
  }
 },
 "nbformat": 4,
 "nbformat_minor": 5
}
